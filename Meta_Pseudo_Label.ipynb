{
  "nbformat": 4,
  "nbformat_minor": 0,
  "metadata": {
    "colab": {
      "name": "Meta Pseudo Label.ipynb",
      "provenance": [],
      "collapsed_sections": [],
      "authorship_tag": "ABX9TyNlJrYZ1BM1r9OspeQvdCk7",
      "include_colab_link": true
    },
    "kernelspec": {
      "display_name": "Python 3",
      "name": "python3"
    },
    "language_info": {
      "name": "python"
    }
  },
  "cells": [
    {
      "cell_type": "markdown",
      "metadata": {
        "id": "view-in-github",
        "colab_type": "text"
      },
      "source": [
        "<a href=\"https://colab.research.google.com/github/hihi5456/pytorch/blob/main/Meta_Pseudo_Label.ipynb\" target=\"_parent\"><img src=\"https://colab.research.google.com/assets/colab-badge.svg\" alt=\"Open In Colab\"/></a>"
      ]
    },
    {
      "cell_type": "code",
      "metadata": {
        "colab": {
          "base_uri": "https://localhost:8080/"
        },
        "id": "fQ_lUzfDnSVt",
        "outputId": "9bb295f1-e6b0-41ed-f690-a40a3be19032"
      },
      "source": [
        "!pip install timm"
      ],
      "execution_count": 1,
      "outputs": [
        {
          "output_type": "stream",
          "text": [
            "Collecting timm\n",
            "\u001b[?25l  Downloading https://files.pythonhosted.org/packages/9e/89/d94f59780b5dd973154bf506d8ce598f6bfe7cc44dd445d644d6d3be8c39/timm-0.4.5-py3-none-any.whl (287kB)\n",
            "\r\u001b[K     |█▏                              | 10kB 17.3MB/s eta 0:00:01\r\u001b[K     |██▎                             | 20kB 20.4MB/s eta 0:00:01\r\u001b[K     |███▍                            | 30kB 11.7MB/s eta 0:00:01\r\u001b[K     |████▋                           | 40kB 9.0MB/s eta 0:00:01\r\u001b[K     |█████▊                          | 51kB 4.4MB/s eta 0:00:01\r\u001b[K     |██████▉                         | 61kB 4.9MB/s eta 0:00:01\r\u001b[K     |████████                        | 71kB 5.2MB/s eta 0:00:01\r\u001b[K     |█████████▏                      | 81kB 5.6MB/s eta 0:00:01\r\u001b[K     |██████████▎                     | 92kB 5.7MB/s eta 0:00:01\r\u001b[K     |███████████▍                    | 102kB 6.1MB/s eta 0:00:01\r\u001b[K     |████████████▌                   | 112kB 6.1MB/s eta 0:00:01\r\u001b[K     |█████████████▊                  | 122kB 6.1MB/s eta 0:00:01\r\u001b[K     |██████████████▉                 | 133kB 6.1MB/s eta 0:00:01\r\u001b[K     |████████████████                | 143kB 6.1MB/s eta 0:00:01\r\u001b[K     |█████████████████               | 153kB 6.1MB/s eta 0:00:01\r\u001b[K     |██████████████████▎             | 163kB 6.1MB/s eta 0:00:01\r\u001b[K     |███████████████████▍            | 174kB 6.1MB/s eta 0:00:01\r\u001b[K     |████████████████████▌           | 184kB 6.1MB/s eta 0:00:01\r\u001b[K     |█████████████████████▋          | 194kB 6.1MB/s eta 0:00:01\r\u001b[K     |██████████████████████▉         | 204kB 6.1MB/s eta 0:00:01\r\u001b[K     |████████████████████████        | 215kB 6.1MB/s eta 0:00:01\r\u001b[K     |█████████████████████████       | 225kB 6.1MB/s eta 0:00:01\r\u001b[K     |██████████████████████████▏     | 235kB 6.1MB/s eta 0:00:01\r\u001b[K     |███████████████████████████▍    | 245kB 6.1MB/s eta 0:00:01\r\u001b[K     |████████████████████████████▌   | 256kB 6.1MB/s eta 0:00:01\r\u001b[K     |█████████████████████████████▋  | 266kB 6.1MB/s eta 0:00:01\r\u001b[K     |██████████████████████████████▉ | 276kB 6.1MB/s eta 0:00:01\r\u001b[K     |████████████████████████████████| 286kB 6.1MB/s eta 0:00:01\r\u001b[K     |████████████████████████████████| 296kB 6.1MB/s \n",
            "\u001b[?25hRequirement already satisfied: torchvision in /usr/local/lib/python3.7/dist-packages (from timm) (0.9.1+cu101)\n",
            "Requirement already satisfied: torch>=1.4 in /usr/local/lib/python3.7/dist-packages (from timm) (1.8.1+cu101)\n",
            "Requirement already satisfied: pillow>=4.1.1 in /usr/local/lib/python3.7/dist-packages (from torchvision->timm) (7.1.2)\n",
            "Requirement already satisfied: numpy in /usr/local/lib/python3.7/dist-packages (from torchvision->timm) (1.19.5)\n",
            "Requirement already satisfied: typing-extensions in /usr/local/lib/python3.7/dist-packages (from torch>=1.4->timm) (3.7.4.3)\n",
            "Installing collected packages: timm\n",
            "Successfully installed timm-0.4.5\n"
          ],
          "name": "stdout"
        }
      ]
    },
    {
      "cell_type": "code",
      "metadata": {
        "id": "N3BK6sd9OS8Z"
      },
      "source": [
        "import torchvision\n",
        "from torchvision import transforms, datasets\n",
        "\n",
        "import torch.utils.data.dataloader\n",
        "import matplotlib.pyplot as plt\n",
        "\n",
        "\n",
        "import torch.optim as optim\n",
        "import torch.nn as nn\n",
        "import torch.nn.functional as F\n",
        "from torch.utils.data import Dataset,ConcatDataset\n",
        "\n",
        "import numpy  as np\n",
        "\n",
        "from sklearn.metrics import roc_auc_score, auc\n",
        "import timm"
      ],
      "execution_count": 2,
      "outputs": []
    },
    {
      "cell_type": "code",
      "metadata": {
        "id": "4mj_L4bVOp3h"
      },
      "source": [
        "device = 'cuda' if torch.cuda.is_available() else 'cpu'\n",
        "\n",
        "torch.manual_seed(456)\n",
        "if device =='cuda':\n",
        "    torch.cuda.manual_seed_all(456)"
      ],
      "execution_count": 3,
      "outputs": []
    },
    {
      "cell_type": "code",
      "metadata": {
        "id": "KcxSeO2TO7u5"
      },
      "source": [
        "model_T=timm.models.efficientnet.efficientnet_b0(pretrained=False)\n",
        "\n",
        "\n",
        "model_S_t=timm.models.efficientnet.efficientnet_b0(pretrained=False)\n",
        "#model_S_tp"
      ],
      "execution_count": 4,
      "outputs": []
    },
    {
      "cell_type": "code",
      "metadata": {
        "id": "L7lF5SaKA6PN"
      },
      "source": [
        "criterion=nn.CrossEntropyLoss()\n"
      ],
      "execution_count": 5,
      "outputs": []
    },
    {
      "cell_type": "code",
      "metadata": {
        "id": "0Lvd_lLJBHdZ"
      },
      "source": [
        "optimizer_T=optim.RMSprop(model_T.parameters(), lr=0.001, momentum=0.9)\n",
        "\n",
        "lr_S=0.001\n",
        "optimizer_S=optim.RMSprop(model_S_t.parameters(), lr=lr_S, momentum=0.9)\n"
      ],
      "execution_count": 47,
      "outputs": []
    },
    {
      "cell_type": "markdown",
      "metadata": {
        "id": "QwGoSs7vi5Z2"
      },
      "source": [
        "## **Update Student**"
      ]
    },
    {
      "cell_type": "code",
      "metadata": {
        "id": "D529KjnOnnWS"
      },
      "source": [
        "def Update_student(model_S_t,PL_data, L_data):\n",
        "  #Student model update\n",
        "  PL_input, PL_label=PL_data\n",
        "  PL_input=PL_input.to(device)\n",
        "  PL_label=PL_label.to(device)\n",
        "\n",
        "  optimizer_S.zero_grad()\n",
        "\n",
        "  output=model_S_t(PL_data)\n",
        "  loss=criterion(PL_label, output)\n",
        "  loss.backward()\n",
        "  optimizer_S.step()\n",
        "  model_S_tp=model_S_t\n",
        "\n",
        "  #Get gradient from updated student model  \n",
        "  L_input, L_label=L_data\n",
        "  L_input=L_input.to(device)\n",
        "  L_label=L_label.to(device)\n",
        "  \n",
        "  output=model_S_tp(L_input)\n",
        "  loss=criterion(L_label,output)\n",
        "  loss.backward()\n",
        "  \n",
        "  return get_h(model_S_t,model_S_tp)"
      ],
      "execution_count": 7,
      "outputs": []
    },
    {
      "cell_type": "markdown",
      "metadata": {
        "id": "u9Colrg2jDPw"
      },
      "source": [
        "## **Update Teacher**"
      ]
    },
    {
      "cell_type": "code",
      "metadata": {
        "id": "yoMZt1dxKMq8"
      },
      "source": [
        "def Update_teacher(model_T, PL_data, L_data, h):\n",
        " \n",
        "  PL_input, PL_label=PL_data\n",
        "  PL_input=PL_input.to(device)\n",
        "  PL_label=PL_label.to(device)\n",
        "  \n",
        "  L_input, L_label=L_data\n",
        "  L_input=L_input.to(device)\n",
        "  L_label=L_label.to(device)\n",
        "\n",
        "\n",
        "  optimizer_T.zero_grad()\n",
        "  \n",
        "  with torch.no_grad():\n",
        "    model_T.eval()\n",
        "    UDA_label=model_T(L_input)\n",
        "    \n",
        "  model_T.train()\n",
        "\n",
        "  loss=h*criterion(PL_label,model_T(PL_input)) + criterion( L_label,model_T(L_input)) \\\n",
        "      + criterion(UDA_label, model_T(RandAug(L_input)))\n",
        "  \n",
        "  loss.backward()\n",
        "  optimizer_T.step()\n"
      ],
      "execution_count": 8,
      "outputs": []
    },
    {
      "cell_type": "markdown",
      "metadata": {
        "id": "oxzhAnfYjGxG"
      },
      "source": [
        "## **Get Feedback coefficient**(just for EfficientNet B0)"
      ]
    },
    {
      "cell_type": "code",
      "metadata": {
        "id": "97HxH9ouUEkD"
      },
      "source": [
        "#Just for EfficientNet B0\n",
        "def get_h(model_S_t,model_S_tp,lr_S):\n",
        "  \n",
        "  h=0\n",
        "\n",
        "\n",
        "\n",
        "  codes='''\n",
        "  if x != None:\n",
        "    temp=x*y\n",
        "    h=h+temp.sum()*lr_S\n",
        "  '''\n",
        "\n",
        "  #model_S_t.state_dict().keys()\n",
        "  for keys in model_S_t.state_dict().keys():\n",
        "    print(keys)\n",
        "    if keys[2]!='o':\n",
        "      \n",
        "      code='x=model_S_t.{}.grad'.format(keys)\n",
        "      exec(code)\n",
        "      code='y=model_S_tp.{}.grad'.format(keys)\n",
        "      exec(code)\n",
        "      exec(codes)\n",
        "\n",
        "      \n",
        "    else:\n",
        "    \n",
        "      modulename=keys[11:]\n",
        "      keys=list(keys)\n",
        "    \n",
        "      keys[6]='['\n",
        "      keys[8]=']'\n",
        "      keys[10]=keys[9]\n",
        "      keys[9]='['\n",
        "      keys[11]=']'\n",
        "      keys=''.join(keys)\n",
        "      code='x=model_S_t.{}.{}.grad'.format(keys[:12],modulename)\n",
        "      exec(code)\n",
        "      code='y=model_S_tp.{}.{}.grad'.format(keys[:12],modulename)\n",
        "      exec(code)\n",
        "      exec(codes)\n",
        "\n",
        "  return h"
      ],
      "execution_count": null,
      "outputs": []
    },
    {
      "cell_type": "markdown",
      "metadata": {
        "id": "-tDPOcRc1zHF"
      },
      "source": [
        "# ***Model gradient check***"
      ]
    },
    {
      "cell_type": "code",
      "metadata": {
        "id": "bX2G5IJzUebp"
      },
      "source": [
        "# just for efficientnet b0\n",
        "codes='''\n",
        "if x != None:\n",
        "  print(x.shape)\n",
        "'''\n",
        "\n",
        "model_S_t.state_dict().keys()\n",
        "for keys in model_S_t.state_dict().keys():\n",
        "  print(keys)\n",
        "  if keys[2]!='o':\n",
        "    code='x=model_S_t.{}.grad'.format(keys)\n",
        "    exec(code)\n",
        "    exec(codes)\n",
        "\n",
        "    \n",
        "  else:\n",
        "    \n",
        "    modulename=keys[11:]\n",
        "    keys=list(keys)\n",
        "    \n",
        "    keys[6]='['\n",
        "    keys[8]=']'\n",
        "    keys[10]=keys[9]\n",
        "    keys[9]='['\n",
        "    keys[11]=']'\n",
        "    keys=''.join(keys)\n",
        "    code='x=model_S_t.{}.{}.grad'.format(keys[:12],modulename)\n",
        "    exec(code)\n",
        "    exec(codes)"
      ],
      "execution_count": null,
      "outputs": []
    },
    {
      "cell_type": "markdown",
      "metadata": {
        "id": "NPVdIyNNjjhu"
      },
      "source": [
        "## **Data loader**"
      ]
    },
    {
      "cell_type": "code",
      "metadata": {
        "id": "-3E5wYRQjnc0"
      },
      "source": [
        ""
      ],
      "execution_count": null,
      "outputs": []
    },
    {
      "cell_type": "markdown",
      "metadata": {
        "id": "1DIWasqHj8uo"
      },
      "source": [
        "## **Training**"
      ]
    },
    {
      "cell_type": "code",
      "metadata": {
        "id": "xPlsnJuYj_je"
      },
      "source": [
        ""
      ],
      "execution_count": null,
      "outputs": []
    }
  ]
}